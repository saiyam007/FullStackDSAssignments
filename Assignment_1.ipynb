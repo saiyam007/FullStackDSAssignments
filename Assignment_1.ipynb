{
  "cells": [
    {
      "cell_type": "markdown",
      "metadata": {
        "id": "trvqZPpCjtuP"
      },
      "source": [
        "# Question -1\n",
        "'''1. In the below elements which of them are values or an expression? \n",
        "eg:- values can be integer or string and expressions will be mathematical operators.\n",
        "* \n",
        "'hello'\n",
        "-87.8\n",
        "- \n",
        "/ \n",
        "\n",
        "\n",
        "6 \n",
        "'''\n"
      ]
    },
    {
      "cell_type": "markdown",
      "metadata": {
        "id": "TZOZ3sLfjtua"
      },
      "source": [
        "# Answer -1"
      ]
    },
    {
      "cell_type": "code",
      "execution_count": 2,
      "metadata": {
        "colab": {
          "base_uri": "https://localhost:8080/"
        },
        "id": "NMKUd5YZjtuc",
        "outputId": "2e7e6b4d-f86d-4efa-a382-5fbfe53e0c95"
      },
      "outputs": [
        {
          "output_type": "stream",
          "name": "stdout",
          "text": [
            "  *       ---> mathematical operators\n",
            "  'hello' ---> string\n",
            "  '-87.8' ---> float\n",
            "  -       ---> mathematical operators\n",
            "  /       ---> mathematical operators\n",
            "  +       ---> mathematical operators\n",
            "  6       ---> integer\n"
          ]
        }
      ],
      "source": [
        "print(f\"  *       ---> mathematical operators\")\n",
        "print(f\"  'hello' ---> string\")\n",
        "print(f\"  '-87.8' ---> float\")\n",
        "print(f\"  -       ---> mathematical operators\")\n",
        "print(f\"  /       ---> mathematical operators\")\n",
        "print(f\"  +       ---> mathematical operators\")\n",
        "print(f\"  6       ---> integer\")"
      ]
    },
    {
      "cell_type": "markdown",
      "metadata": {
        "id": "MTUTdQ9Tjtug"
      },
      "source": [
        "# Question -2\n",
        "#2. What is the difference between string and variable"
      ]
    },
    {
      "cell_type": "code",
      "execution_count": null,
      "metadata": {
        "id": "yYHjWTiIjtuh",
        "outputId": "6e22b8ee-fdc3-4303-b077-28a83e1a860a"
      },
      "outputs": [
        {
          "data": {
            "text/plain": [
              "' \"String\" ----> \"String is a value representing some text, This are Immutable  in nature . \\n                  It is a collection of one or more characters put in a single quote, double-quote or triple quote\\n\\nfor eg.  str a = \"Hi i am learning python \"\\n\\n Here a is name of variable \\n and the type of variable is string which contains some text\\n\\n'"
            ]
          },
          "execution_count": 20,
          "metadata": {},
          "output_type": "execute_result"
        }
      ],
      "source": [
        "''' \"String\" ----> \"String is a value representing some text, This are Immutable  in nature. \n",
        "                  It is a collection of one or more characters put in a single quote, double-quote or triple quote\n",
        "\n",
        "for eg.  a = \"Hi i am learning python \"\n",
        "\n",
        " Here a is name of variable \n",
        " and the type of variable is string which contains some text\n",
        "\n",
        "'''\n",
        "\n"
      ]
    },
    {
      "cell_type": "code",
      "execution_count": 5,
      "metadata": {
        "colab": {
          "base_uri": "https://localhost:8080/",
          "height": 53
        },
        "id": "gN33TFppjtuj",
        "outputId": "0521e9c3-9218-4306-9b29-0ef5f06cd1b7"
      },
      "outputs": [
        {
          "output_type": "execute_result",
          "data": {
            "application/vnd.google.colaboratory.intrinsic+json": {
              "type": "string"
            },
            "text/plain": [
              "'\"variable\" ---> \"a variable is a name that can contains any value, It has some reserved memory location to store value\\n                    Variable do not need to be declared with any particular type, and can even change type after they have been set\"\\n'"
            ]
          },
          "metadata": {},
          "execution_count": 5
        }
      ],
      "source": [
        "'''\"variable\" ---> \"a variable is a name that can contains any value, It has some reserved memory location to store value\n",
        "                    Variable do not need to be declared with any particular type, and can even change type after they have been set\"\n",
        "'''"
      ]
    },
    {
      "cell_type": "markdown",
      "metadata": {
        "id": "2YYhje0Cjtul"
      },
      "source": [
        "## Question -3\n",
        "3. Describe three different data types\n"
      ]
    },
    {
      "cell_type": "code",
      "execution_count": 10,
      "metadata": {
        "id": "Qk05pmyojtun"
      },
      "outputs": [],
      "source": [
        "#1.List = List is used to store the collection of diffrent data type elements and it is immutable eg.[1,2,4,'Hello',[1,2,3],4] ''')\n",
        "#2.Set =  \"Set items are unordered, unchangeable,unindexed and do not allow duplicate values eg.seteg = {'apple', 'banana', 'cherry',123,3} \"\n",
        "#3.Dictionary = \"Dictionaries are used to store data values in key:value pairs. A dictionary is a collection which is ordered, changeable and do not allow duplicates., Values can be duplicated but key should be unique\""
      ]
    },
    {
      "cell_type": "markdown",
      "source": [
        "## Question -4\n",
        "4. What is an expression made up of? What do all expressions do?"
      ],
      "metadata": {
        "id": "FLq3sQeko7Xh"
      }
    },
    {
      "cell_type": "markdown",
      "source": [
        "Expression is made of operations and operands[value,variable, operators and function]\n",
        "The main purpose of Expression to calculate new value. \n",
        "\n",
        "In every language the expression is evaluated as per the precedence of its operators. So that if there is more than one operator in an expression, their precedence decides which operation will be performed first"
      ],
      "metadata": {
        "id": "_eoxkeIPpAM5"
      }
    },
    {
      "cell_type": "markdown",
      "source": [
        "## Question -5\n",
        "5. This assignment statements, like spam = 10. What is the difference between an expression and a statement?"
      ],
      "metadata": {
        "id": "aHZcnxAJtZWO"
      }
    },
    {
      "cell_type": "markdown",
      "source": [
        "Expression is made of Operartion and Operands to calculate a new value\n",
        " eg  a= 10 , b=20\n",
        "   this is an airthmatic expression a+b\n",
        "\n",
        "   \n",
        "where in spam = 10 this is just assignment statement where spam is name of variable and value stored in it is 10\n",
        "spam is variable\n",
        "10  is value\n",
        "= is used to assign  value in variable"
      ],
      "metadata": {
        "id": "NJjmSjEzthOq"
      }
    },
    {
      "cell_type": "markdown",
      "source": [
        "## Question - 6\n",
        "6. After running the following code, what does the variable bacon contain?\n",
        "bacon = 22\n",
        "bacon + 1\n"
      ],
      "metadata": {
        "id": "DVCCgvxAvJHw"
      }
    },
    {
      "cell_type": "markdown",
      "source": [
        ""
      ],
      "metadata": {
        "id": "Iac1cEQdvJSo"
      }
    },
    {
      "cell_type": "code",
      "source": [
        "bacon =22\n",
        "bacon+1"
      ],
      "metadata": {
        "colab": {
          "base_uri": "https://localhost:8080/"
        },
        "id": "yjclYOV_o3iL",
        "outputId": "c8053aa8-fe61-4b73-b00e-f02de0b20323"
      },
      "execution_count": 12,
      "outputs": [
        {
          "output_type": "execute_result",
          "data": {
            "text/plain": [
              "23"
            ]
          },
          "metadata": {},
          "execution_count": 12
        }
      ]
    },
    {
      "cell_type": "markdown",
      "source": [
        "## Quesrion - 7\n",
        "7. What should the values of the following two terms be?\n",
        "'spam' + 'spamspam'\n",
        "'spam' * 3\n"
      ],
      "metadata": {
        "id": "ppLAf5vAvZgM"
      }
    },
    {
      "cell_type": "code",
      "source": [
        "# Both the values got concatenated\n",
        "'spam' + 'spamspam'"
      ],
      "metadata": {
        "colab": {
          "base_uri": "https://localhost:8080/",
          "height": 35
        },
        "id": "teATJGLCo3mk",
        "outputId": "769160e1-147f-46e6-d67b-1165373090cb"
      },
      "execution_count": 16,
      "outputs": [
        {
          "output_type": "execute_result",
          "data": {
            "application/vnd.google.colaboratory.intrinsic+json": {
              "type": "string"
            },
            "text/plain": [
              "'spamspamspam'"
            ]
          },
          "metadata": {},
          "execution_count": 16
        }
      ]
    },
    {
      "cell_type": "code",
      "source": [
        "# Everytime when we multiply a int number with  any values it will create that number if copies or it will write that values n no of times here n is int number\n",
        "\n",
        "'spam' * 3"
      ],
      "metadata": {
        "colab": {
          "base_uri": "https://localhost:8080/",
          "height": 35
        },
        "id": "7r_pwObwo3od",
        "outputId": "1218e4f9-ac79-4d04-d851-dedb2b3ca3a6"
      },
      "execution_count": 17,
      "outputs": [
        {
          "output_type": "execute_result",
          "data": {
            "application/vnd.google.colaboratory.intrinsic+json": {
              "type": "string"
            },
            "text/plain": [
              "'spamspamspam'"
            ]
          },
          "metadata": {},
          "execution_count": 17
        }
      ]
    },
    {
      "cell_type": "markdown",
      "source": [
        "## Question -8\n",
        "8. Why is eggs a valid variable name while 100 is invalid?"
      ],
      "metadata": {
        "id": "EsLPxpzbwQgg"
      }
    },
    {
      "cell_type": "code",
      "source": [
        "###'''  RULES FOR DECLARING VARIBLE IN PYTHON\n",
        "\n",
        "#1. A varible should not start with a number .  eg 100 , 2 is invalid variable name\n",
        "#2. A variable can contain number but not at starting position . eg hel123 valid variable name\n",
        "#3  A varible can contain underscore and can start with underscore or with eglish letter.  _saiyam\n",
        "#4. A varible name can be case sensitive. eg . SaSiyan =\"sam\"\n",
        "#5. A varible can contian alpha-numeric value.  eg SasSjs7845 = \"Sam\"\n",
        "\n",
        "#'''\n",
        "\n",
        "#Answer :By rule no 3 eggs is valid varible but 100 is invalid because of rule 1 and 2"
      ],
      "metadata": {
        "id": "spoT18noo3th"
      },
      "execution_count": 32,
      "outputs": []
    },
    {
      "cell_type": "code",
      "source": [
        "_saiyam =\"saiyam\"\n",
        "_saiyam"
      ],
      "metadata": {
        "colab": {
          "base_uri": "https://localhost:8080/",
          "height": 35
        },
        "id": "lzniQmi9o3vg",
        "outputId": "9dcb592b-d08a-4c9e-b0a6-61f236b1d4ce"
      },
      "execution_count": 23,
      "outputs": [
        {
          "output_type": "execute_result",
          "data": {
            "application/vnd.google.colaboratory.intrinsic+json": {
              "type": "string"
            },
            "text/plain": [
              "'saiyam'"
            ]
          },
          "metadata": {},
          "execution_count": 23
        }
      ]
    },
    {
      "cell_type": "code",
      "source": [
        "SasSjs7845 = \"Sam\"\n",
        "SasSjs7845"
      ],
      "metadata": {
        "colab": {
          "base_uri": "https://localhost:8080/",
          "height": 35
        },
        "id": "BtJScoPio3zP",
        "outputId": "466660df-3c84-4242-93ff-01fd5186242a"
      },
      "execution_count": 29,
      "outputs": [
        {
          "output_type": "execute_result",
          "data": {
            "application/vnd.google.colaboratory.intrinsic+json": {
              "type": "string"
            },
            "text/plain": [
              "'Sam'"
            ]
          },
          "metadata": {},
          "execution_count": 29
        }
      ]
    },
    {
      "cell_type": "markdown",
      "source": [
        "## Question - 9\n",
        "9. What three functions can be used to get the integer, floating-point number, or string version of a value?"
      ],
      "metadata": {
        "id": "P-0rQbFsozCf"
      }
    },
    {
      "cell_type": "markdown",
      "source": [
        "this below function can be used get values respectively\n",
        "\n",
        "1.int()\n",
        "2.float()\n",
        "3.str()"
      ],
      "metadata": {
        "id": "S2kYWmMXytci"
      }
    },
    {
      "cell_type": "markdown",
      "source": [
        "##Question - 10\n",
        "10. Why does this expression cause an error? How can you fix it?\n",
        "'I have eaten ' + 99 + ' burritos.'\n",
        "\n"
      ],
      "metadata": {
        "id": "g_ylh_qs1FXT"
      }
    },
    {
      "cell_type": "code",
      "source": [
        "'I have eaten ' + 99 + ' burritos.'"
      ],
      "metadata": {
        "colab": {
          "base_uri": "https://localhost:8080/",
          "height": 166
        },
        "id": "OY_cT8Ne1R8S",
        "outputId": "0ff1c08c-9ee3-4ddb-ba0f-4d494aff88c0"
      },
      "execution_count": 33,
      "outputs": [
        {
          "output_type": "error",
          "ename": "TypeError",
          "evalue": "ignored",
          "traceback": [
            "\u001b[0;31m---------------------------------------------------------------------------\u001b[0m",
            "\u001b[0;31mTypeError\u001b[0m                                 Traceback (most recent call last)",
            "\u001b[0;32m<ipython-input-33-d24137131a5c>\u001b[0m in \u001b[0;36m<module>\u001b[0;34m()\u001b[0m\n\u001b[0;32m----> 1\u001b[0;31m \u001b[0;34m'I have eaten '\u001b[0m \u001b[0;34m+\u001b[0m \u001b[0;36m99\u001b[0m \u001b[0;34m+\u001b[0m \u001b[0;34m' burritos.'\u001b[0m\u001b[0;34m\u001b[0m\u001b[0;34m\u001b[0m\u001b[0m\n\u001b[0m",
            "\u001b[0;31mTypeError\u001b[0m: can only concatenate str (not \"int\") to str"
          ]
        }
      ]
    },
    {
      "cell_type": "code",
      "source": [
        "# To fix above code issue we have to type cast the int value into str\n",
        "'I have eaten ' + str(99) + ' burritos.'"
      ],
      "metadata": {
        "colab": {
          "base_uri": "https://localhost:8080/",
          "height": 35
        },
        "id": "9XNWyCn31W8C",
        "outputId": "7ffe77e6-f015-45b5-c133-bddec7ad1035"
      },
      "execution_count": 34,
      "outputs": [
        {
          "output_type": "execute_result",
          "data": {
            "application/vnd.google.colaboratory.intrinsic+json": {
              "type": "string"
            },
            "text/plain": [
              "'I have eaten 99 burritos.'"
            ]
          },
          "metadata": {},
          "execution_count": 34
        }
      ]
    }
  ],
  "metadata": {
    "kernelspec": {
      "display_name": "Python 3",
      "language": "python",
      "name": "python3"
    },
    "language_info": {
      "codemirror_mode": {
        "name": "ipython",
        "version": 3
      },
      "file_extension": ".py",
      "mimetype": "text/x-python",
      "name": "python",
      "nbconvert_exporter": "python",
      "pygments_lexer": "ipython3",
      "version": "3.8.3"
    },
    "colab": {
      "name": "Assignment_1.ipynb",
      "provenance": [],
      "collapsed_sections": [
        "trvqZPpCjtuP",
        "TZOZ3sLfjtua",
        "2YYhje0Cjtul",
        "FLq3sQeko7Xh"
      ]
    }
  },
  "nbformat": 4,
  "nbformat_minor": 0
}