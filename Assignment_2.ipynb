{
  "nbformat": 4,
  "nbformat_minor": 0,
  "metadata": {
    "colab": {
      "name": "Assignment_2.ipynb",
      "provenance": [],
      "collapsed_sections": []
    },
    "kernelspec": {
      "name": "python3",
      "display_name": "Python 3"
    },
    "language_info": {
      "name": "python"
    }
  },
  "cells": [
    {
      "cell_type": "markdown",
      "source": [
        "## Question - 1\n",
        "1.What are the two values of the Boolean data type? How do you write them?"
      ],
      "metadata": {
        "id": "bvFE3H5t2tRH"
      }
    },
    {
      "cell_type": "markdown",
      "source": [
        "Answer:\n",
        "The two values of Boolean data types is 1.)True and 2.) False"
      ],
      "metadata": {
        "id": "fjYKTkk22yQ2"
      }
    },
    {
      "cell_type": "code",
      "source": [
        "print(1>5)\n",
        "print(0<3)"
      ],
      "metadata": {
        "colab": {
          "base_uri": "https://localhost:8080/"
        },
        "id": "tcfjqb9t3iMt",
        "outputId": "901680b4-2c5e-45a0-f580-72dbcedfd867"
      },
      "execution_count": 2,
      "outputs": [
        {
          "output_type": "stream",
          "name": "stdout",
          "text": [
            "False\n",
            "True\n"
          ]
        }
      ]
    },
    {
      "cell_type": "markdown",
      "source": [
        "## Question - 2\n",
        "2. What are the three different types of Boolean operators?"
      ],
      "metadata": {
        "id": "wZsLfosY3tqz"
      }
    },
    {
      "cell_type": "markdown",
      "source": [
        "Answer : The basic three basic operations are AND, OR and NOT"
      ],
      "metadata": {
        "id": "7R7rJ12B39dI"
      }
    },
    {
      "cell_type": "code",
      "source": [
        "# And operation\n",
        "a = 30\n",
        "\n",
        "b = 45\n",
        "\n",
        "if(a >= 30 and b == 45):\n",
        "\n",
        "   print(\"True\")\n",
        "\n",
        "else:\n",
        "\n",
        "   print(\"False\")"
      ],
      "metadata": {
        "colab": {
          "base_uri": "https://localhost:8080/"
        },
        "id": "XJwhoyqq3k7t",
        "outputId": "47465699-a69d-4f8c-8fa5-763a46dc114b"
      },
      "execution_count": 6,
      "outputs": [
        {
          "output_type": "stream",
          "name": "stdout",
          "text": [
            "True\n"
          ]
        }
      ]
    },
    {
      "cell_type": "code",
      "source": [
        "# OR operation\n",
        "a = 30\n",
        "\n",
        "b = 45\n",
        "\n",
        "if(a > 30 or b == 45):\n",
        "\n",
        "   print(\"True\")\n",
        "\n",
        "else:\n",
        "\n",
        "   print(\"False\")"
      ],
      "metadata": {
        "colab": {
          "base_uri": "https://localhost:8080/"
        },
        "id": "iOuF5m1b5BhP",
        "outputId": "eb899561-2bac-4c5a-f4ec-14245feefc0d"
      },
      "execution_count": 8,
      "outputs": [
        {
          "output_type": "stream",
          "name": "stdout",
          "text": [
            "True\n"
          ]
        }
      ]
    },
    {
      "cell_type": "code",
      "source": [
        "# NOT operation\n",
        "a = 2\n",
        "\n",
        "b = 2\n",
        "\n",
        "if(not(a == b)):\n",
        "  print(\"If Executed\")\n",
        "else:\n",
        "  print(\"Else Executed\")"
      ],
      "metadata": {
        "colab": {
          "base_uri": "https://localhost:8080/"
        },
        "id": "m6VoKpnQ5Hdp",
        "outputId": "f198b0b2-8be0-4653-d79b-ab576b350b32"
      },
      "execution_count": 9,
      "outputs": [
        {
          "output_type": "stream",
          "name": "stdout",
          "text": [
            "Else Executed\n"
          ]
        }
      ]
    },
    {
      "cell_type": "markdown",
      "source": [
        "## Question -3 \n",
        "\n",
        "3. Make a list of each Boolean operator's truth tables (i.e. every possible combination of Boolean values for the operator and what it evaluate)."
      ],
      "metadata": {
        "id": "fCsNFN_J5bdQ"
      }
    },
    {
      "cell_type": "code",
      "source": [
        "#1. AND Operand\n",
        "\n",
        "#First Second      Result \n",
        "\n",
        "1.True\tTrue\t-->   True\n",
        "2.True\tFalse\t-->   False\n",
        "3.False\tTrue\t-->   False\n",
        "4.False\tFalse\t-->   False\n",
        "\n",
        "\n",
        "#2. OR Operand\n",
        "\n",
        "#First Second      Result\n",
        "\n",
        "1.True\tTrue\t-->   True\n",
        "2.True\tFalse\t-->   True\n",
        "3.False\tTrue\t-->   True\n",
        "4.False\tFalse\t-->   False\n",
        "\n",
        "\n",
        "#3. NOT Operand\n",
        "\n",
        "#Operand\t    Result\n",
        "\n",
        "1.True\t-->   False\n",
        "2.False\t-->   True"
      ],
      "metadata": {
        "colab": {
          "base_uri": "https://localhost:8080/",
          "height": 131
        },
        "id": "DW-Sefk3GtGP",
        "outputId": "e4d1fae3-3cfe-4216-e5c1-ac9efbabdef8"
      },
      "execution_count": 11,
      "outputs": [
        {
          "output_type": "error",
          "ename": "SyntaxError",
          "evalue": "ignored",
          "traceback": [
            "\u001b[0;36m  File \u001b[0;32m\"<ipython-input-11-80b7e9f17338>\"\u001b[0;36m, line \u001b[0;32m5\u001b[0m\n\u001b[0;31m    1.True\tTrue\t-->   True\u001b[0m\n\u001b[0m         ^\u001b[0m\n\u001b[0;31mSyntaxError\u001b[0m\u001b[0;31m:\u001b[0m invalid syntax\n"
          ]
        }
      ]
    },
    {
      "cell_type": "markdown",
      "source": [
        "## Question - 4\n",
        "4. What are the values of the following expressions?\n",
        "(5 > 4) and (3 == 5)\n",
        "not (5 > 4)\n",
        "(5 > 4) or (3 == 5)\n",
        "not ((5 > 4) or (3 == 5))\n",
        "(True and True) and (True == False)\n",
        "(not False) or (not True)\n"
      ],
      "metadata": {
        "id": "gCYtMoY1HqTc"
      }
    },
    {
      "cell_type": "code",
      "source": [
        "(5 > 4) and (3 == 5)"
      ],
      "metadata": {
        "colab": {
          "base_uri": "https://localhost:8080/"
        },
        "id": "yKReA98LH0uz",
        "outputId": "50170782-8055-42b0-884a-3f9894eaae44"
      },
      "execution_count": 20,
      "outputs": [
        {
          "output_type": "execute_result",
          "data": {
            "text/plain": [
              "False"
            ]
          },
          "metadata": {},
          "execution_count": 20
        }
      ]
    },
    {
      "cell_type": "code",
      "source": [
        "not(5>4)"
      ],
      "metadata": {
        "colab": {
          "base_uri": "https://localhost:8080/"
        },
        "id": "PWmfjaYSH8H3",
        "outputId": "fc6af67c-80fc-44b8-c654-58880ca659c8"
      },
      "execution_count": 19,
      "outputs": [
        {
          "output_type": "execute_result",
          "data": {
            "text/plain": [
              "False"
            ]
          },
          "metadata": {},
          "execution_count": 19
        }
      ]
    },
    {
      "cell_type": "code",
      "source": [
        "(5 > 4) or (3 == 5)"
      ],
      "metadata": {
        "colab": {
          "base_uri": "https://localhost:8080/"
        },
        "id": "uQofF1z1H8Ks",
        "outputId": "a24a1bac-5204-4563-eb65-edf0f39f5918"
      },
      "execution_count": 21,
      "outputs": [
        {
          "output_type": "execute_result",
          "data": {
            "text/plain": [
              "True"
            ]
          },
          "metadata": {},
          "execution_count": 21
        }
      ]
    },
    {
      "cell_type": "code",
      "source": [
        "not ((5 > 4) or (3 == 5))"
      ],
      "metadata": {
        "colab": {
          "base_uri": "https://localhost:8080/"
        },
        "id": "ZdpL1wYeH8Ni",
        "outputId": "df3402fb-c1c2-45d4-b74a-89fcc3af1481"
      },
      "execution_count": 22,
      "outputs": [
        {
          "output_type": "execute_result",
          "data": {
            "text/plain": [
              "False"
            ]
          },
          "metadata": {},
          "execution_count": 22
        }
      ]
    },
    {
      "cell_type": "code",
      "source": [
        "(True and True) and (True == False)"
      ],
      "metadata": {
        "colab": {
          "base_uri": "https://localhost:8080/"
        },
        "id": "SKhJWDoGH8QT",
        "outputId": "aff3b574-1f01-48e0-8895-0bcdcf4f1ccb"
      },
      "execution_count": 23,
      "outputs": [
        {
          "output_type": "execute_result",
          "data": {
            "text/plain": [
              "False"
            ]
          },
          "metadata": {},
          "execution_count": 23
        }
      ]
    },
    {
      "cell_type": "code",
      "source": [
        "(not False) or (not True)"
      ],
      "metadata": {
        "colab": {
          "base_uri": "https://localhost:8080/"
        },
        "id": "sJ6flXzKI47r",
        "outputId": "7a792a9a-f659-4fc9-fbfd-9072759fd3b0"
      },
      "execution_count": 24,
      "outputs": [
        {
          "output_type": "execute_result",
          "data": {
            "text/plain": [
              "True"
            ]
          },
          "metadata": {},
          "execution_count": 24
        }
      ]
    },
    {
      "cell_type": "markdown",
      "source": [
        "## Question - 5\n",
        "5. What are the six comparison operators?"
      ],
      "metadata": {
        "id": "D3BDvK5qI8Zh"
      }
    },
    {
      "cell_type": "code",
      "source": [
        "#1.less than (<)\n",
        "#2.greater than (>)\n",
        "#3.less than or equal to (<=)\n",
        "#4.greater than or equal to (>=)\n",
        "#5.equal to (==)\n",
        "#6.not equal to (!=)"
      ],
      "metadata": {
        "id": "1uSyfD87Jf54"
      },
      "execution_count": 25,
      "outputs": []
    },
    {
      "cell_type": "markdown",
      "source": [
        "## Question - 6\n",
        "6. How do you tell the difference between the equal to and assignment operators?Describe a condition and when you would use one."
      ],
      "metadata": {
        "id": "rU_MC4NHKJCP"
      }
    },
    {
      "cell_type": "code",
      "source": [
        "# equal to (==)  ---> This is a comparison operator which checks whether the two given operands are equal or not. If so, it returns true\n",
        "#  to Check entered password is same or wrong\n",
        "passWord = \"PASSWORD\"\n",
        "pwd = \"PASSWORD\"\n",
        "\n",
        "if passWord == pwd:\n",
        "  print(\"Same password\")\n",
        "else:\n",
        "  print(\"Invalid Password\")\n",
        "\n",
        "\n",
        "# assignment (=) ---> This an assignment operator which is used to assign the value to the variable \n",
        "# if we want to assign a value to name variable we will use  = operator\n",
        "\n",
        "name = \"INet\"\n",
        "print(name)"
      ],
      "metadata": {
        "colab": {
          "base_uri": "https://localhost:8080/"
        },
        "id": "rTetJwkpKMEP",
        "outputId": "77ddef9c-7daf-46e7-b57d-d2a9610bc9a8"
      },
      "execution_count": 29,
      "outputs": [
        {
          "output_type": "stream",
          "name": "stdout",
          "text": [
            "Same password\n",
            "INet\n"
          ]
        }
      ]
    },
    {
      "cell_type": "markdown",
      "source": [
        "## Question - 7\n",
        "7. Identify the three blocks in this code:\n",
        "spam = 0\n",
        "if spam == 10:\n",
        "print('eggs')\n",
        "if spam > 5:\n",
        "print('bacon')\n",
        "else:\n",
        "print('ham')\n",
        "print('spam')\n",
        "print('spam')\n"
      ],
      "metadata": {
        "id": "1hZ7cqKQNgAi"
      }
    },
    {
      "cell_type": "code",
      "source": [
        "spam = 10\n",
        "if spam == 10:\n",
        "  print('eggs')\n",
        "elif spam > 5:\n",
        "  print('bacon')\n",
        "else:\n",
        "  print('ham')\n",
        "  print('spam')\n",
        "  print('spam')\n"
      ],
      "metadata": {
        "colab": {
          "base_uri": "https://localhost:8080/"
        },
        "id": "w2K4WEGHNthO",
        "outputId": "7098c125-8adc-43db-d1f7-13e7b773c898"
      },
      "execution_count": 36,
      "outputs": [
        {
          "output_type": "stream",
          "name": "stdout",
          "text": [
            "eggs\n"
          ]
        }
      ]
    },
    {
      "cell_type": "markdown",
      "source": [
        "## Question - 8\n",
        "\n",
        "8. Write code that prints Hello if 1 is stored in spam, prints Howdy if 2 is stored in spam, and prints Greetings! if anything else is stored in spam."
      ],
      "metadata": {
        "id": "S5UYM3Z7Oosq"
      }
    },
    {
      "cell_type": "code",
      "source": [
        "spam = int(input(\"Enter a number:\"))\n",
        "\n",
        "if spam == 1:\n",
        "  print(\"Hello\")\n",
        "elif spam == 2:\n",
        "  print(\"Howdy\")\n",
        "else:\n",
        "  print(\"Greetings!\")\n"
      ],
      "metadata": {
        "colab": {
          "base_uri": "https://localhost:8080/"
        },
        "id": "AOD5YEOfOsPP",
        "outputId": "c6589b61-9423-4e8b-a77f-d0540905deda"
      },
      "execution_count": 41,
      "outputs": [
        {
          "output_type": "stream",
          "name": "stdout",
          "text": [
            "Enter a number:4\n",
            "Greetings!\n"
          ]
        }
      ]
    },
    {
      "cell_type": "markdown",
      "source": [
        "## Question - 9\n",
        "9.If your programme is stuck in an endless loop, what keys you’ll press?"
      ],
      "metadata": {
        "id": "Lz7B6wVtQF1h"
      }
    },
    {
      "cell_type": "code",
      "source": [
        "print(\"We will press CTRL + C to break an endless loop\")"
      ],
      "metadata": {
        "colab": {
          "base_uri": "https://localhost:8080/"
        },
        "id": "u8zi2SoWQMO6",
        "outputId": "8b3b3cbb-ff69-402d-d220-5de004882e28"
      },
      "execution_count": 42,
      "outputs": [
        {
          "output_type": "stream",
          "name": "stdout",
          "text": [
            "We will press CTRL + C to break an endless loop\n"
          ]
        }
      ]
    },
    {
      "cell_type": "markdown",
      "source": [
        "## Question - 10\n",
        "10. How can you tell the difference between break and continue?"
      ],
      "metadata": {
        "id": "2j3NAJxLQgSx"
      }
    },
    {
      "cell_type": "markdown",
      "source": [
        "1. break = It eliminates the execution of remaining iteration of loop.\n",
        "It early terminates the loop and ‘stop the continuation of the loop.\n",
        "It used with the ‘switch’, ‘label’,.\n",
        "\n",
        "\n",
        "2. continue = It will terminate only the current iteration of loop.\n",
        "It causes the early execution of the next iteration it does not stop the continuation of loop and it stops the current.\n",
        "Cannot be executed with switch and the labels."
      ],
      "metadata": {
        "id": "Q5wOiO0dQn0M"
      }
    },
    {
      "cell_type": "markdown",
      "source": [
        "## Question - 11\n",
        "11. In a for loop, what is the difference between range(10), range(0, 10), and range(0, 10, 1)?"
      ],
      "metadata": {
        "id": "VfEpkumVSVzb"
      }
    },
    {
      "cell_type": "code",
      "source": [
        "#range(stop) takes one argument. \n",
        "#user will get a series of numbers that starts at 0 and includes every whole number up to, but not including, the number that user have provided as the stop.\n",
        "# Here won't include 10 \n",
        "for i in range(10):\n",
        "  print(i)"
      ],
      "metadata": {
        "colab": {
          "base_uri": "https://localhost:8080/"
        },
        "id": "GTQkJbJhSY_3",
        "outputId": "a72f9049-b37c-4be3-a2d4-326933db9640"
      },
      "execution_count": 49,
      "outputs": [
        {
          "output_type": "stream",
          "name": "stdout",
          "text": [
            "0\n",
            "1\n",
            "2\n",
            "3\n",
            "4\n",
            "5\n",
            "6\n",
            "7\n",
            "8\n",
            "9\n"
          ]
        }
      ]
    },
    {
      "cell_type": "code",
      "source": [
        "#range(Start,Stop) with two arguments, user get to decide not only where the series of numbers stops but also where it starts, so user don’t have to start at 0 all the time.\n",
        "for i in range(0,10):\n",
        "  print(i)"
      ],
      "metadata": {
        "colab": {
          "base_uri": "https://localhost:8080/"
        },
        "id": "xSwHaeTXSb17",
        "outputId": "6289c852-d57f-4058-d64d-1911da696319"
      },
      "execution_count": 50,
      "outputs": [
        {
          "output_type": "stream",
          "name": "stdout",
          "text": [
            "0\n",
            "1\n",
            "2\n",
            "3\n",
            "4\n",
            "5\n",
            "6\n",
            "7\n",
            "8\n",
            "9\n"
          ]
        }
      ]
    },
    {
      "cell_type": "code",
      "source": [
        "#range(Start,Stop,Step) with three arguments, the user can choose not only where the series of numbers will start and stop but also how big the difference will be between one number and the next. \n",
        "#If the user doesn’t provide a step, then range() will automatically behave as if the step is 1. \n",
        "for i in range(0,10,1):\n",
        "  print(i)"
      ],
      "metadata": {
        "colab": {
          "base_uri": "https://localhost:8080/"
        },
        "id": "peaVbg1aSb44",
        "outputId": "142f0561-8115-4f87-be14-45755306614f"
      },
      "execution_count": 51,
      "outputs": [
        {
          "output_type": "stream",
          "name": "stdout",
          "text": [
            "0\n",
            "1\n",
            "2\n",
            "3\n",
            "4\n",
            "5\n",
            "6\n",
            "7\n",
            "8\n",
            "9\n"
          ]
        }
      ]
    },
    {
      "cell_type": "markdown",
      "source": [
        "## Question - 11\n",
        "12. Write a short program that prints the numbers 1 to 10 using a for loop. Then write an equivalent program that prints the numbers 1 to 10 using a while loop.\n"
      ],
      "metadata": {
        "id": "LmdlYJJmXwMO"
      }
    },
    {
      "cell_type": "code",
      "source": [
        " for i in range(1,11):\n",
        "   print(i)"
      ],
      "metadata": {
        "colab": {
          "base_uri": "https://localhost:8080/"
        },
        "id": "ERgF1r4ZXvcE",
        "outputId": "fed4a4bc-9b37-4803-98c5-dc48b52bccc9"
      },
      "execution_count": 59,
      "outputs": [
        {
          "output_type": "stream",
          "name": "stdout",
          "text": [
            "1\n",
            "2\n",
            "3\n",
            "4\n",
            "5\n",
            "6\n",
            "7\n",
            "8\n",
            "9\n",
            "10\n"
          ]
        }
      ]
    },
    {
      "cell_type": "code",
      "source": [
        "num = 10\n",
        "count = 1\n",
        "while count <=10:\n",
        "  print(count)\n",
        "  count = count+1\n"
      ],
      "metadata": {
        "colab": {
          "base_uri": "https://localhost:8080/"
        },
        "id": "jOAb7VMWYhvN",
        "outputId": "1bea6ae7-4b67-42b6-9445-daf5abc0f704"
      },
      "execution_count": 60,
      "outputs": [
        {
          "output_type": "stream",
          "name": "stdout",
          "text": [
            "1\n",
            "2\n",
            "3\n",
            "4\n",
            "5\n",
            "6\n",
            "7\n",
            "8\n",
            "9\n",
            "10\n"
          ]
        }
      ]
    },
    {
      "cell_type": "markdown",
      "source": [
        "## Question - 13\n",
        "13. If you had a function named bacon() inside a module named spam, how would you call it after importing spam?"
      ],
      "metadata": {
        "id": "mrOgnT4YYzlz"
      }
    },
    {
      "cell_type": "code",
      "source": [
        "#Answer This function can be called with spam.bacon()."
      ],
      "metadata": {
        "id": "rwAZDIfyY4k9"
      },
      "execution_count": 62,
      "outputs": []
    }
  ]
}