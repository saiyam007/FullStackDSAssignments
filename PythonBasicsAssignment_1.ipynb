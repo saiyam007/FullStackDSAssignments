{
  "nbformat": 4,
  "nbformat_minor": 0,
  "metadata": {
    "colab": {
      "name": "PythonBasicsAssignment_1.ipynb",
      "provenance": [],
      "collapsed_sections": []
    },
    "kernelspec": {
      "name": "python3",
      "display_name": "Python 3"
    },
    "language_info": {
      "name": "python"
    }
  },
  "cells": [
    {
      "cell_type": "markdown",
      "source": [
        "## Question - 1.\tWrite a Python program to print \"Hello Python\"?\n"
      ],
      "metadata": {
        "id": "tU5g184tbGPh"
      }
    },
    {
      "cell_type": "code",
      "source": [
        "print(\"Hello Python\")"
      ],
      "metadata": {
        "colab": {
          "base_uri": "https://localhost:8080/"
        },
        "id": "VaEhUDSab1P2",
        "outputId": "6a1029ec-a6a0-4390-b8ef-cf8aeba865f4"
      },
      "execution_count": 2,
      "outputs": [
        {
          "output_type": "stream",
          "name": "stdout",
          "text": [
            "Hello Python\n"
          ]
        }
      ]
    },
    {
      "cell_type": "markdown",
      "source": [
        "##Question 2.\tWrite a Python program to do arithmetical operations addition and division.?"
      ],
      "metadata": {
        "id": "aCPTqbNucHsr"
      }
    },
    {
      "cell_type": "code",
      "source": [
        "# This Function take three arguments where a and b hold the value and c hold the airthmatic opeation \n",
        "def airthmaticOperation(a,b,c=\"add\"):\n",
        "  if c == \"add\":\n",
        "    return a+b\n",
        "  if c == \"div\":\n",
        "    return a/b"
      ],
      "metadata": {
        "id": "8aGV2ZPFb6GC"
      },
      "execution_count": 12,
      "outputs": []
    },
    {
      "cell_type": "code",
      "source": [
        "print(\"The Output of airthmatic operation is :\",airthmaticOperation(12,12,\"div\"))"
      ],
      "metadata": {
        "colab": {
          "base_uri": "https://localhost:8080/"
        },
        "id": "TKAiitZtcsEq",
        "outputId": "2576f5b9-f6fc-49e6-81fe-a8ddc0ad26f8"
      },
      "execution_count": 14,
      "outputs": [
        {
          "output_type": "stream",
          "name": "stdout",
          "text": [
            "div\n",
            "The Output of airthmatic operation is : 1.0\n"
          ]
        }
      ]
    },
    {
      "cell_type": "markdown",
      "source": [
        "## Question - 3.\tWrite a Python program to find the area of a triangle?"
      ],
      "metadata": {
        "id": "Lm12VpdHduSz"
      }
    },
    {
      "cell_type": "code",
      "source": [
        "def aot(h,w):\n",
        "  return 0.5 * h * w"
      ],
      "metadata": {
        "id": "jyzqNQL3b1Rp"
      },
      "execution_count": 15,
      "outputs": []
    },
    {
      "cell_type": "code",
      "source": [
        "print(\"Area of Triangle is :\",aot(12,23))"
      ],
      "metadata": {
        "colab": {
          "base_uri": "https://localhost:8080/"
        },
        "id": "aFzlhRr3eQBj",
        "outputId": "5feba29a-91fb-496c-f0ff-7d57fce55cd4"
      },
      "execution_count": 17,
      "outputs": [
        {
          "output_type": "stream",
          "name": "stdout",
          "text": [
            "Area of Triangle is : 138.0\n"
          ]
        }
      ]
    },
    {
      "cell_type": "markdown",
      "source": [
        "## Question - 4.\tWrite a Python program to swap two variables?"
      ],
      "metadata": {
        "id": "c1Gy-YwaeppS"
      }
    },
    {
      "cell_type": "code",
      "source": [
        "name1 = input(\"Enter Something for var1:\")\n",
        "name2 = input(\"Enter Something for var2:\")\n",
        "\n",
        "\n",
        "print(\"===================================\")\n",
        "print(\"===================================\")\n",
        "print(\"Before Swapping variable values\")\n",
        "print(f\"Value in variable name1  is {name1}\")\n",
        "print(f\"Value in variable name2  is {name2}\")\n",
        "print(\"===================================\")\n",
        "print(\"===================================\")\n",
        "print(\"After Swapping variable values\")\n",
        "name1 ,name2 = name2,name1\n",
        "print(f\"Value in variable name1  is {name1}\")\n",
        "print(f\"Value in variable name2  is {name2}\")\n",
        "print(\"===================================\")\n",
        "print(\"===================================\")"
      ],
      "metadata": {
        "colab": {
          "base_uri": "https://localhost:8080/"
        },
        "id": "UDC0NU3ab1V1",
        "outputId": "49b9fded-6ae3-483d-d8e2-7e19caf200ce"
      },
      "execution_count": 19,
      "outputs": [
        {
          "output_type": "stream",
          "name": "stdout",
          "text": [
            "Enter Something for var1:Saiyam\n",
            "Enter Something for var2:Chintan\n",
            "===================================\n",
            "===================================\n",
            "Before Swapping variable values\n",
            "Value in variable name1  is Saiyam\n",
            "Value in variable name2  is Chintan\n",
            "===================================\n",
            "===================================\n",
            "After Swapping variable values\n",
            "Value in variable name1  is Chintan\n",
            "Value in variable name2  is Saiyam\n",
            "===================================\n",
            "===================================\n"
          ]
        }
      ]
    },
    {
      "cell_type": "markdown",
      "source": [
        "## Questipon 5.\tWrite a Python program to generate a random number?"
      ],
      "metadata": {
        "id": "Fg9cxNGNmObd"
      }
    },
    {
      "cell_type": "code",
      "source": [
        "import random\n",
        "\n",
        "start = int(input(\"Starting postion of Random number generation:\"))\n",
        "end = int(input(\"Starting postion of Random number generation:\"))\n",
        "print(\"Generating New Random number :\",random.randint(start,end))"
      ],
      "metadata": {
        "colab": {
          "base_uri": "https://localhost:8080/"
        },
        "id": "tCVRGz6rb1Xm",
        "outputId": "68c546ec-4866-43da-a450-339473f10864"
      },
      "execution_count": 31,
      "outputs": [
        {
          "output_type": "stream",
          "name": "stdout",
          "text": [
            "Starting postion of Random number generation:-150\n",
            "Starting postion of Random number generation:0\n",
            "Generating New Random number : -127\n"
          ]
        }
      ]
    },
    {
      "cell_type": "code",
      "source": [
        ""
      ],
      "metadata": {
        "id": "Dtz9P_Wxb1cI"
      },
      "execution_count": null,
      "outputs": []
    },
    {
      "cell_type": "code",
      "source": [
        ""
      ],
      "metadata": {
        "id": "J_Ov9VqHb1g4"
      },
      "execution_count": null,
      "outputs": []
    },
    {
      "cell_type": "code",
      "source": [
        ""
      ],
      "metadata": {
        "id": "tNP1y_a3b1iz"
      },
      "execution_count": null,
      "outputs": []
    }
  ]
}