{
  "nbformat": 4,
  "nbformat_minor": 0,
  "metadata": {
    "colab": {
      "name": "PythonBasicsAssignment_2.ipynb",
      "provenance": [],
      "collapsed_sections": []
    },
    "kernelspec": {
      "name": "python3",
      "display_name": "Python 3"
    },
    "language_info": {
      "name": "python"
    }
  },
  "cells": [
    {
      "cell_type": "markdown",
      "source": [
        "## Question 1.\tWrite a Python program to convert kilometers to miles?\n"
      ],
      "metadata": {
        "id": "vUHUHhKRoyIG"
      }
    },
    {
      "cell_type": "code",
      "source": [
        "def km_to_miles(k):\n",
        "  miles = 0.621371\n",
        "  return (k*miles)\n"
      ],
      "metadata": {
        "id": "VV8B7cCno4x1"
      },
      "execution_count": 1,
      "outputs": []
    },
    {
      "cell_type": "code",
      "source": [
        "Killometer = int(input(\"Please enter any kilometer which need to convert into miles : \"))\n",
        "print(f\" {Killometer} Killometer will converted into \",km_to_miles(Killometer),\" miles\")"
      ],
      "metadata": {
        "colab": {
          "base_uri": "https://localhost:8080/"
        },
        "id": "II4DUlISpsJW",
        "outputId": "c9ea2d5a-8d1e-4c5b-b919-fa873e8206ce"
      },
      "execution_count": 3,
      "outputs": [
        {
          "output_type": "stream",
          "name": "stdout",
          "text": [
            "Please enter any kilometer which need to convert into miles : 120\n",
            " 120 will converted into  74.56452  miles\n"
          ]
        }
      ]
    },
    {
      "cell_type": "markdown",
      "source": [
        "\n",
        "## Question 2.\tWrite a Python program to convert Celsius to Fahrenheit?\n",
        "\n"
      ],
      "metadata": {
        "id": "C-0GjuPgqh1a"
      }
    },
    {
      "cell_type": "code",
      "source": [
        "def cel_to_far(cel):\n",
        "  far = (cel * 9/5) + 32\n",
        "  return far\n"
      ],
      "metadata": {
        "id": "I78DGz_yqxKG"
      },
      "execution_count": 5,
      "outputs": []
    },
    {
      "cell_type": "code",
      "source": [
        "celsius = int(input(\"Please enter the Celcius which need to convert into Fahrenheit : \"))\n",
        "print(f\"{celsius} Celsius(°C) converted into \",cel_to_far(celsius),\" F\")"
      ],
      "metadata": {
        "colab": {
          "base_uri": "https://localhost:8080/"
        },
        "id": "O--S1UmMrVaH",
        "outputId": "76a49466-a366-4e47-d1d1-45b4e925d2f5"
      },
      "execution_count": 9,
      "outputs": [
        {
          "output_type": "stream",
          "name": "stdout",
          "text": [
            "Please enter the Celcius which need to convert into Fahrenheit : 11\n",
            "11 Celsius(°C) converted into  51.8  F\n"
          ]
        }
      ]
    },
    {
      "cell_type": "markdown",
      "source": [
        "## Question 3.\tWrite a Python program to display calendar?\n"
      ],
      "metadata": {
        "id": "EzaHaWkmuz2U"
      }
    },
    {
      "cell_type": "code",
      "source": [
        "from datetime import datetime\n",
        "import calendar\n",
        "\n",
        "currMonth = datetime.now().month\n",
        "currYear = datetime.now().year\n",
        "\n",
        "print(calendar.month(currYear, currMonth))"
      ],
      "metadata": {
        "colab": {
          "base_uri": "https://localhost:8080/"
        },
        "id": "IyXV4CRPu-HO",
        "outputId": "c7a1a502-65e6-4a3a-bbc4-02887740eac1"
      },
      "execution_count": 14,
      "outputs": [
        {
          "output_type": "stream",
          "name": "stdout",
          "text": [
            "    January 2022\n",
            "Mo Tu We Th Fr Sa Su\n",
            "                1  2\n",
            " 3  4  5  6  7  8  9\n",
            "10 11 12 13 14 15 16\n",
            "17 18 19 20 21 22 23\n",
            "24 25 26 27 28 29 30\n",
            "31\n",
            "\n"
          ]
        }
      ]
    },
    {
      "cell_type": "markdown",
      "source": [
        "## Question 4.\tWrite a Python program to solve quadratic equation?"
      ],
      "metadata": {
        "id": "1jfrxL5dwtwP"
      }
    },
    {
      "cell_type": "code",
      "source": [
        "import cmath\n",
        "  \n",
        "a = 1\n",
        "b = 4\n",
        "c = 2\n",
        "\n",
        "dis = (b**2) - (4 * a*c)\n",
        "  \n",
        "ans1 = (-b-cmath.sqrt(dis))/(2 * a)\n",
        "ans2 = (-b + cmath.sqrt(dis))/(2 * a)\n",
        "\n",
        "print('The roots are')\n",
        "print('The solution are {0} and {1}'.format(ans1,ans2))"
      ],
      "metadata": {
        "colab": {
          "base_uri": "https://localhost:8080/"
        },
        "id": "H3ME36QJxvYZ",
        "outputId": "9b5ed4fc-b3f5-4c28-d0f9-c0e12e5032ba"
      },
      "execution_count": 15,
      "outputs": [
        {
          "output_type": "stream",
          "name": "stdout",
          "text": [
            "The roots are\n",
            "The solution are (-3.414213562373095+0j) and (-0.5857864376269049+0j)\n"
          ]
        }
      ]
    },
    {
      "cell_type": "markdown",
      "source": [
        "## Question 5.\tWrite a Python program to swap two variables without temp variable?"
      ],
      "metadata": {
        "id": "h_e8UJNn1vXg"
      }
    },
    {
      "cell_type": "code",
      "source": [
        "name1 = input(\"Enter Something for var1:\")\n",
        "name2 = input(\"Enter Something for var2:\")\n",
        "\n",
        "\n",
        "print(\"===================================\")\n",
        "print(\"===================================\")\n",
        "print(\"Before Swapping variable values\")\n",
        "print(f\"Value in variable name1  is {name1}\")\n",
        "print(f\"Value in variable name2  is {name2}\")\n",
        "print(\"===================================\")\n",
        "print(\"===================================\")\n",
        "print(\"After Swapping variable values\")\n",
        "name1 ,name2 = name2,name1\n",
        "print(f\"Value in variable name1  is {name1}\")\n",
        "print(f\"Value in variable name2  is {name2}\")\n",
        "print(\"===================================\")\n",
        "print(\"===================================\")"
      ],
      "metadata": {
        "colab": {
          "base_uri": "https://localhost:8080/"
        },
        "id": "86Wssig6w15u",
        "outputId": "b4decd2b-e1c1-4362-84c5-78a3512e33a7"
      },
      "execution_count": 16,
      "outputs": [
        {
          "output_type": "stream",
          "name": "stdout",
          "text": [
            "Enter Something for var1:5\n",
            "Enter Something for var2:4\n",
            "===================================\n",
            "===================================\n",
            "Before Swapping variable values\n",
            "Value in variable name1  is 5\n",
            "Value in variable name2  is 4\n",
            "===================================\n",
            "===================================\n",
            "After Swapping variable values\n",
            "Value in variable name1  is 4\n",
            "Value in variable name2  is 5\n",
            "===================================\n",
            "===================================\n"
          ]
        }
      ]
    }
  ]
}